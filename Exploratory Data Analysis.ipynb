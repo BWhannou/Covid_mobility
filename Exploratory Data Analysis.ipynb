{
    "cells": [
        {
            "cell_type": "markdown",
            "metadata": {},
            "source": "# Libraries import"
        },
        {
            "cell_type": "code",
            "execution_count": 21,
            "metadata": {},
            "outputs": [],
            "source": "import pandas as pd\nimport datetime\nimport numpy as np\nimport matplotlib\nimport re\nimport matplotlib.pyplot as plt\nmatplotlib.style.use([\"ggplot\"])"
        },
        {
            "cell_type": "markdown",
            "metadata": {},
            "source": "# Importation of the datasets"
        },
        {
            "cell_type": "markdown",
            "metadata": {},
            "source": "## Covid-19"
        },
        {
            "cell_type": "markdown",
            "metadata": {},
            "source": "The Covid19 dataset is provided by John Hopkins University. The dataset is updated every day"
        },
        {
            "cell_type": "code",
            "execution_count": 22,
            "metadata": {},
            "outputs": [],
            "source": "# url towards the Github repository\nurl_racine = \"https://raw.githubusercontent.com/CSSEGISandData/COVID-19/master/csse_covid_19_data/csse_covid_19_daily_reports/\""
        },
        {
            "cell_type": "code",
            "execution_count": 23,
            "metadata": {},
            "outputs": [],
            "source": "# the date from which CSSE repository started to collect data\ndate_begin = datetime.date(2020,1,22)\n\n# download of the data\ndate_end = datetime.date.today()\n\nrange_of_date = pd.date_range(date_begin,end=date_end).strftime(\"%m-%d-%Y\").tolist()"
        },
        {
            "cell_type": "code",
            "execution_count": 24,
            "metadata": {},
            "outputs": [
                {
                    "name": "stdout",
                    "output_type": "stream",
                    "text": "[]\n"
                }
            ],
            "source": "\nrange_of_date_iter = range_of_date\niterative = 0\nrecords = pd.DataFrame()\nexcept_dates = []\nresult = {}\nwhile (len(except_dates)>1 and iterative < 5) or (iterative == 0):\n    iterative += 1\n    print(except_dates)\n    except_dates = []\n    for date_given in range_of_date_iter:\n        try:\n            temp = pd.read_csv(url_racine + date_given + \".csv\")\n            num = temp.shape[0]\n            temp[\"date\"] = np.repeat(date_given,num)\n            temp[\"Date\"] = [datetime.datetime.strptime(date_str,'%m-%d-%Y') for date_str in temp.date]\n            #temp = temp.drop(columns=[\"date\"])\n            records = records.append(temp,sort=False)\n        except:\n            except_dates.append(date_given)\n            pass\n    range_of_date_iter = except_dates\n    result[\"table\"+str(iterative)]=records\n    records = pd.DataFrame()\n    \nrecords = result[\"table1\"]"
        },
        {
            "cell_type": "code",
            "execution_count": 25,
            "metadata": {},
            "outputs": [
                {
                    "data": {
                        "text/plain": "Province/State            object\nCountry/Region            object\nLast Update               object\nConfirmed                float64\nDeaths                   float64\nRecovered                float64\ndate                      object\nDate              datetime64[ns]\nLatitude                 float64\nLongitude                float64\nFIPS                     float64\nAdmin2                    object\nProvince_State            object\nCountry_Region            object\nLast_Update               object\nLat                      float64\nLong_                    float64\nActive                   float64\nCombined_Key              object\ndtype: object"
                    },
                    "execution_count": 25,
                    "metadata": {},
                    "output_type": "execute_result"
                }
            ],
            "source": "records.dtypes"
        },
        {
            "cell_type": "markdown",
            "metadata": {},
            "source": "we can notice that there are variables with the same information. They are:\n* **Province/State** and **Province\\_State**\n* **Country/Region** and **Country\\_Region**\n* **Lat** and **Latitude**\n* **Long_** and **Longitude**\n\nLet's combine them into one variable each"
        },
        {
            "cell_type": "code",
            "execution_count": 26,
            "metadata": {},
            "outputs": [],
            "source": "records[\"Prov\"] = records[\"Province/State\"].combine_first(records[\"Province_State\"])\nrecords[\"Country\"] = records[\"Country/Region\"].combine_first(records[\"Country_Region\"])\nrecords[\"Lati\"] = records[\"Latitude\"].combine_first(records[\"Lat\"])\nrecords[\"Longi\"] = records[\"Longitude\"].combine_first(records[\"Long_\"])"
        },
        {
            "cell_type": "code",
            "execution_count": 27,
            "metadata": {},
            "outputs": [],
            "source": "\nrecords.drop(columns=[\"Province/State\",\n\"date\",\n\"Province_State\",\n\"Country_Region\",\n\"Country/Region\",\n\"Last Update\",\n\"Last_Update\",\n\"Longitude\",\n\"Long_\",\n\"Admin2\",\n\"FIPS\",],inplace=True)\n"
        },
        {
            "cell_type": "code",
            "execution_count": 28,
            "metadata": {},
            "outputs": [
                {
                    "data": {
                        "text/plain": "Confirmed              float64\nDeaths                 float64\nRecovered              float64\nDate            datetime64[ns]\nLatitude               float64\nLat                    float64\nActive                 float64\nCombined_Key            object\nProv                    object\nCountry                 object\nLati                   float64\nLongi                  float64\ndtype: object"
                    },
                    "execution_count": 28,
                    "metadata": {},
                    "output_type": "execute_result"
                }
            ],
            "source": "records.dtypes"
        }
    ],
    "metadata": {
        "kernelspec": {
            "display_name": "Python 3.6",
            "language": "python",
            "name": "python3"
        },
        "language_info": {
            "codemirror_mode": {
                "name": "ipython",
                "version": 3
            },
            "file_extension": ".py",
            "mimetype": "text/x-python",
            "name": "python",
            "nbconvert_exporter": "python",
            "pygments_lexer": "ipython3",
            "version": "3.6.9"
        }
    },
    "nbformat": 4,
    "nbformat_minor": 1
}