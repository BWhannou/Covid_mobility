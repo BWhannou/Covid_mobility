{
    "cells": [
        {
            "cell_type": "markdown",
            "metadata": {},
            "source": "The objective of this analysis is to get some insights by comparing the spread of the virus with the trend of mobility"
        },
        {
            "cell_type": "markdown",
            "metadata": {},
            "source": "# Libraries import"
        },
        {
            "cell_type": "code",
            "execution_count": 17,
            "metadata": {},
            "outputs": [],
            "source": "import pandas as pd\nimport datetime\nimport numpy as np\nimport matplotlib\nimport re\nimport matplotlib.pyplot as plt\nmatplotlib.style.use([\"ggplot\"])\n#\"https://covid19-static.cdn-apple.com/covid19-mobility-data/2006HotfixDev8/v1/en-us/applemobilitytrends-2020-04-17.csv\""
        },
        {
            "cell_type": "markdown",
            "metadata": {},
            "source": "# Importation of the datasets"
        },
        {
            "cell_type": "markdown",
            "metadata": {},
            "source": "## Covid-19"
        },
        {
            "cell_type": "markdown",
            "metadata": {},
            "source": "The Covid19 dataset is provided by John Hopkins University. The dataset is updated every day"
        },
        {
            "cell_type": "code",
            "execution_count": 18,
            "metadata": {},
            "outputs": [],
            "source": "# url towards the Github repository\nurl_racine = \"https://raw.githubusercontent.com/CSSEGISandData/COVID-19/master/csse_covid_19_data/csse_covid_19_daily_reports/\""
        },
        {
            "cell_type": "code",
            "execution_count": 19,
            "metadata": {},
            "outputs": [],
            "source": "# the date from which CSSE repository started to collect data\ndate_begin = datetime.date(2020,1,22)\n\n# download of the data\ndate_end = datetime.date.today()\n\nrange_of_date = pd.date_range(date_begin,end=date_end).strftime(\"%m-%d-%Y\").tolist()"
        },
        {
            "cell_type": "code",
            "execution_count": 20,
            "metadata": {},
            "outputs": [
                {
                    "name": "stdout",
                    "output_type": "stream",
                    "text": "[]\n"
                }
            ],
            "source": "\nrange_of_date_iter = range_of_date\niterative = 0\nrecords = pd.DataFrame()\nexcept_dates = []\nresult = {}\nwhile (len(except_dates)>1 and iterative < 5) or (iterative == 0):\n    iterative += 1\n    print(except_dates)\n    except_dates = []\n    for date_given in range_of_date_iter:\n        try:\n            temp = pd.read_csv(url_racine + date_given + \".csv\")\n            num = temp.shape[0]\n            temp[\"date\"] = np.repeat(date_given,num)\n            temp[\"Date\"] = [datetime.datetime.strptime(date_str,'%m-%d-%Y') for date_str in temp.date]\n            #temp = temp.drop(columns=[\"date\"])\n            records = records.append(temp,sort=False)\n        except:\n            except_dates.append(date_given)\n            pass\n    range_of_date_iter = except_dates\n    result[\"table\"+str(iterative)]=records\n    records = pd.DataFrame()\n    \nrecords = result[\"table1\"]"
        },
        {
            "cell_type": "code",
            "execution_count": 21,
            "metadata": {},
            "outputs": [
                {
                    "data": {
                        "text/plain": "Province/State            object\nCountry/Region            object\nLast Update               object\nConfirmed                float64\nDeaths                   float64\nRecovered                float64\ndate                      object\nDate              datetime64[ns]\nLatitude                 float64\nLongitude                float64\nFIPS                     float64\nAdmin2                    object\nProvince_State            object\nCountry_Region            object\nLast_Update               object\nLat                      float64\nLong_                    float64\nActive                   float64\nCombined_Key              object\ndtype: object"
                    },
                    "execution_count": 21,
                    "metadata": {},
                    "output_type": "execute_result"
                }
            ],
            "source": "records.dtypes"
        },
        {
            "cell_type": "markdown",
            "metadata": {},
            "source": "we can notice that there are variables with the same information. They are:\n* **Province/State** and **Province\\_State**\n* **Country/Region** and **Country\\_Region**\n* **Lat** and **Latitude**\n* **Long_** and **Longitude**\n\nLet's combine them into one variable each"
        },
        {
            "cell_type": "code",
            "execution_count": 22,
            "metadata": {},
            "outputs": [],
            "source": "records[\"Prov\"] = records[\"Province/State\"].combine_first(records[\"Province_State\"])\nrecords[\"Country\"] = records[\"Country/Region\"].combine_first(records[\"Country_Region\"])\nrecords[\"Lati\"] = records[\"Latitude\"].combine_first(records[\"Lat\"])\nrecords[\"Longi\"] = records[\"Longitude\"].combine_first(records[\"Long_\"])"
        },
        {
            "cell_type": "code",
            "execution_count": 23,
            "metadata": {},
            "outputs": [],
            "source": "records.drop(columns=[\"Province/State\",\n\"date\",\n\"Province_State\",\n\"Country_Region\",\n\"Country/Region\",\n\"Last Update\",\n\"Last_Update\",\n\"Longitude\",\n\"Long_\",\n\"Latitude\",\n\"Lat\",\n\"Admin2\",\n\"FIPS\",],inplace=True)"
        },
        {
            "cell_type": "code",
            "execution_count": 28,
            "metadata": {},
            "outputs": [
                {
                    "name": "stdout",
                    "output_type": "stream",
                    "text": "the shape of the data is: \n(92516, 10)\n"
                },
                {
                    "data": {
                        "text/html": "<div>\n<style scoped>\n    .dataframe tbody tr th:only-of-type {\n        vertical-align: middle;\n    }\n\n    .dataframe tbody tr th {\n        vertical-align: top;\n    }\n\n    .dataframe thead th {\n        text-align: right;\n    }\n</style>\n<table border=\"1\" class=\"dataframe\">\n  <thead>\n    <tr style=\"text-align: right;\">\n      <th></th>\n      <th>Confirmed</th>\n      <th>Deaths</th>\n      <th>Recovered</th>\n      <th>Date</th>\n      <th>Active</th>\n      <th>Combined_Key</th>\n      <th>Prov</th>\n      <th>Country</th>\n      <th>Lati</th>\n      <th>Longi</th>\n    </tr>\n  </thead>\n  <tbody>\n    <tr>\n      <th>3025</th>\n      <td>191726.0</td>\n      <td>20043.0</td>\n      <td>74797.0</td>\n      <td>2020-04-18</td>\n      <td>96886.0</td>\n      <td>Spain</td>\n      <td>NaN</td>\n      <td>Spain</td>\n      <td>40.463667</td>\n      <td>-3.74922</td>\n    </tr>\n    <tr>\n      <th>3017</th>\n      <td>190839.0</td>\n      <td>20002.0</td>\n      <td>74797.0</td>\n      <td>2020-04-17</td>\n      <td>96040.0</td>\n      <td>Spain</td>\n      <td>NaN</td>\n      <td>Spain</td>\n      <td>40.463667</td>\n      <td>-3.74922</td>\n    </tr>\n    <tr>\n      <th>3013</th>\n      <td>184948.0</td>\n      <td>19315.0</td>\n      <td>74797.0</td>\n      <td>2020-04-16</td>\n      <td>90836.0</td>\n      <td>Spain</td>\n      <td>NaN</td>\n      <td>Spain</td>\n      <td>40.463667</td>\n      <td>-3.74922</td>\n    </tr>\n    <tr>\n      <th>2998</th>\n      <td>177644.0</td>\n      <td>18708.0</td>\n      <td>70853.0</td>\n      <td>2020-04-15</td>\n      <td>88083.0</td>\n      <td>Spain</td>\n      <td>NaN</td>\n      <td>Spain</td>\n      <td>40.463667</td>\n      <td>-3.74922</td>\n    </tr>\n    <tr>\n      <th>2953</th>\n      <td>175925.0</td>\n      <td>23227.0</td>\n      <td>44927.0</td>\n      <td>2020-04-18</td>\n      <td>107771.0</td>\n      <td>Italy</td>\n      <td>NaN</td>\n      <td>Italy</td>\n      <td>41.871940</td>\n      <td>12.56738</td>\n    </tr>\n  </tbody>\n</table>\n</div>",
                        "text/plain": "      Confirmed   Deaths  Recovered       Date    Active Combined_Key Prov  \\\n3025   191726.0  20043.0    74797.0 2020-04-18   96886.0        Spain  NaN   \n3017   190839.0  20002.0    74797.0 2020-04-17   96040.0        Spain  NaN   \n3013   184948.0  19315.0    74797.0 2020-04-16   90836.0        Spain  NaN   \n2998   177644.0  18708.0    70853.0 2020-04-15   88083.0        Spain  NaN   \n2953   175925.0  23227.0    44927.0 2020-04-18  107771.0        Italy  NaN   \n\n     Country       Lati     Longi  \n3025   Spain  40.463667  -3.74922  \n3017   Spain  40.463667  -3.74922  \n3013   Spain  40.463667  -3.74922  \n2998   Spain  40.463667  -3.74922  \n2953   Italy  41.871940  12.56738  "
                    },
                    "execution_count": 28,
                    "metadata": {},
                    "output_type": "execute_result"
                }
            ],
            "source": "print(\"the shape of the data is: \\n{}\".format(records.shape))\nrecords.sort_values([\"Confirmed\"],ascending=False).head()"
        },
        {
            "cell_type": "code",
            "execution_count": 25,
            "metadata": {},
            "outputs": [
                {
                    "data": {
                        "text/plain": "Confirmed              float64\nDeaths                 float64\nRecovered              float64\nDate            datetime64[ns]\nActive                 float64\nCombined_Key            object\nProv                    object\nCountry                 object\nLati                   float64\nLongi                  float64\ndtype: object"
                    },
                    "execution_count": 25,
                    "metadata": {},
                    "output_type": "execute_result"
                }
            ],
            "source": "records.dtypes"
        },
        {
            "cell_type": "code",
            "execution_count": 26,
            "metadata": {},
            "outputs": [
                {
                    "data": {
                        "text/html": "<div>\n<style scoped>\n    .dataframe tbody tr th:only-of-type {\n        vertical-align: middle;\n    }\n\n    .dataframe tbody tr th {\n        vertical-align: top;\n    }\n\n    .dataframe thead th {\n        text-align: right;\n    }\n</style>\n<table border=\"1\" class=\"dataframe\">\n  <thead>\n    <tr style=\"text-align: right;\">\n      <th></th>\n      <th>Confirmed</th>\n      <th>Deaths</th>\n      <th>Recovered</th>\n      <th>Active</th>\n      <th>Lati</th>\n      <th>Longi</th>\n    </tr>\n  </thead>\n  <tbody>\n    <tr>\n      <th>count</th>\n      <td>92497.000000</td>\n      <td>92075.000000</td>\n      <td>92128.000000</td>\n      <td>84899.000000</td>\n      <td>88712.000000</td>\n      <td>88712.000000</td>\n    </tr>\n    <tr>\n      <th>mean</th>\n      <td>432.060456</td>\n      <td>24.204551</td>\n      <td>106.596561</td>\n      <td>238.570136</td>\n      <td>36.221805</td>\n      <td>-76.410610</td>\n    </tr>\n    <tr>\n      <th>std</th>\n      <td>4980.274773</td>\n      <td>455.253875</td>\n      <td>1984.352932</td>\n      <td>3237.413942</td>\n      <td>11.210298</td>\n      <td>48.268481</td>\n    </tr>\n    <tr>\n      <th>min</th>\n      <td>0.000000</td>\n      <td>0.000000</td>\n      <td>0.000000</td>\n      <td>-64840.000000</td>\n      <td>-51.796300</td>\n      <td>-170.132000</td>\n    </tr>\n    <tr>\n      <th>25%</th>\n      <td>1.000000</td>\n      <td>0.000000</td>\n      <td>0.000000</td>\n      <td>0.000000</td>\n      <td>33.588398</td>\n      <td>-96.012303</td>\n    </tr>\n    <tr>\n      <th>50%</th>\n      <td>6.000000</td>\n      <td>0.000000</td>\n      <td>0.000000</td>\n      <td>0.000000</td>\n      <td>37.832188</td>\n      <td>-87.112100</td>\n    </tr>\n    <tr>\n      <th>75%</th>\n      <td>36.000000</td>\n      <td>1.000000</td>\n      <td>0.000000</td>\n      <td>3.000000</td>\n      <td>41.639360</td>\n      <td>-79.913511</td>\n    </tr>\n    <tr>\n      <th>max</th>\n      <td>191726.000000</td>\n      <td>23227.000000</td>\n      <td>85400.000000</td>\n      <td>122370.000000</td>\n      <td>72.000000</td>\n      <td>178.065000</td>\n    </tr>\n  </tbody>\n</table>\n</div>",
                        "text/plain": "           Confirmed        Deaths     Recovered         Active          Lati  \\\ncount   92497.000000  92075.000000  92128.000000   84899.000000  88712.000000   \nmean      432.060456     24.204551    106.596561     238.570136     36.221805   \nstd      4980.274773    455.253875   1984.352932    3237.413942     11.210298   \nmin         0.000000      0.000000      0.000000  -64840.000000    -51.796300   \n25%         1.000000      0.000000      0.000000       0.000000     33.588398   \n50%         6.000000      0.000000      0.000000       0.000000     37.832188   \n75%        36.000000      1.000000      0.000000       3.000000     41.639360   \nmax    191726.000000  23227.000000  85400.000000  122370.000000     72.000000   \n\n              Longi  \ncount  88712.000000  \nmean     -76.410610  \nstd       48.268481  \nmin     -170.132000  \n25%      -96.012303  \n50%      -87.112100  \n75%      -79.913511  \nmax      178.065000  "
                    },
                    "execution_count": 26,
                    "metadata": {},
                    "output_type": "execute_result"
                }
            ],
            "source": "records.describe()"
        },
        {
            "cell_type": "markdown",
            "metadata": {},
            "source": "It seems to have some countries which are not "
        },
        {
            "cell_type": "code",
            "execution_count": 27,
            "metadata": {},
            "outputs": [
                {
                    "data": {
                        "text/html": "<div>\n<style scoped>\n    .dataframe tbody tr th:only-of-type {\n        vertical-align: middle;\n    }\n\n    .dataframe tbody tr th {\n        vertical-align: top;\n    }\n\n    .dataframe thead th {\n        text-align: right;\n    }\n</style>\n<table border=\"1\" class=\"dataframe\">\n  <thead>\n    <tr style=\"text-align: right;\">\n      <th></th>\n      <th>Combined_Key</th>\n      <th>Prov</th>\n      <th>Country</th>\n    </tr>\n  </thead>\n  <tbody>\n    <tr>\n      <th>count</th>\n      <td>84899</td>\n      <td>84325</td>\n      <td>92516</td>\n    </tr>\n    <tr>\n      <th>unique</th>\n      <td>3566</td>\n      <td>298</td>\n      <td>235</td>\n    </tr>\n    <tr>\n      <th>top</th>\n      <td>Rock, Wisconsin, US</td>\n      <td>Texas</td>\n      <td>US</td>\n    </tr>\n    <tr>\n      <th>freq</th>\n      <td>28</td>\n      <td>5509</td>\n      <td>79299</td>\n    </tr>\n  </tbody>\n</table>\n</div>",
                        "text/plain": "               Combined_Key   Prov Country\ncount                 84899  84325   92516\nunique                 3566    298     235\ntop     Rock, Wisconsin, US  Texas      US\nfreq                     28   5509   79299"
                    },
                    "execution_count": 27,
                    "metadata": {},
                    "output_type": "execute_result"
                }
            ],
            "source": "records.describe(include=\"object\")"
        },
        {
            "cell_type": "code",
            "execution_count": 13,
            "metadata": {},
            "outputs": [
                {
                    "name": "stdout",
                    "output_type": "stream",
                    "text": "the information on the data span from 2020-01-22 00:00:00 to 2020-04-18 00:00:00\n"
                }
            ],
            "source": "print(\"the information on the data span from {} to {}\".format(records.Date.min(),records.Date.max()))"
        }
    ],
    "metadata": {
        "kernelspec": {
            "display_name": "Python 3.6",
            "language": "python",
            "name": "python3"
        },
        "language_info": {
            "codemirror_mode": {
                "name": "ipython",
                "version": 3
            },
            "file_extension": ".py",
            "mimetype": "text/x-python",
            "name": "python",
            "nbconvert_exporter": "python",
            "pygments_lexer": "ipython3",
            "version": "3.6.9"
        }
    },
    "nbformat": 4,
    "nbformat_minor": 1
}